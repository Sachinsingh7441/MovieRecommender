{
  "nbformat": 4,
  "nbformat_minor": 0,
  "metadata": {
    "kernelspec": {
      "display_name": "Python 3",
      "language": "python",
      "name": "python3"
    },
    "language_info": {
      "codemirror_mode": {
        "name": "ipython",
        "version": 3
      },
      "file_extension": ".py",
      "mimetype": "text/x-python",
      "name": "python",
      "nbconvert_exporter": "python",
      "pygments_lexer": "ipython3",
      "version": "3.9.1"
    },
    "colab": {
      "name": "MovieRecommender.ipynb",
      "provenance": []
    }
  },
  "cells": [
    {
      "cell_type": "code",
      "metadata": {
        "id": "hABJHsxnP8jR"
      },
      "source": [
        "import pandas as pd\n",
        "import numpy as np\n",
        "import matplotlib.pyplot as plt\n",
        "from sklearn.preprocessing import LabelEncoder\n",
        "import seaborn as sns"
      ],
      "execution_count": 4,
      "outputs": []
    },
    {
      "cell_type": "code",
      "metadata": {
        "colab": {
          "base_uri": "https://localhost:8080/"
        },
        "id": "NRu5XSP9P8jW",
        "outputId": "d0ed815a-8e56-49cf-c74e-3fd21f874532"
      },
      "source": [
        "basic=pd.read_table('title.basics.tsv.gz')"
      ],
      "execution_count": 5,
      "outputs": [
        {
          "output_type": "stream",
          "text": [
            "/usr/local/lib/python3.7/dist-packages/IPython/core/interactiveshell.py:2822: DtypeWarning: Columns (4,5) have mixed types.Specify dtype option on import or set low_memory=False.\n",
            "  if self.run_code(code, result):\n"
          ],
          "name": "stderr"
        }
      ]
    },
    {
      "cell_type": "code",
      "metadata": {
        "colab": {
          "base_uri": "https://localhost:8080/",
          "height": 238
        },
        "id": "WROG63_BP8jZ",
        "outputId": "cfcbd65b-6873-4b00-ff4a-0cf199767c43"
      },
      "source": [
        "basic.head()"
      ],
      "execution_count": 6,
      "outputs": [
        {
          "output_type": "execute_result",
          "data": {
            "text/html": [
              "<div>\n",
              "<style scoped>\n",
              "    .dataframe tbody tr th:only-of-type {\n",
              "        vertical-align: middle;\n",
              "    }\n",
              "\n",
              "    .dataframe tbody tr th {\n",
              "        vertical-align: top;\n",
              "    }\n",
              "\n",
              "    .dataframe thead th {\n",
              "        text-align: right;\n",
              "    }\n",
              "</style>\n",
              "<table border=\"1\" class=\"dataframe\">\n",
              "  <thead>\n",
              "    <tr style=\"text-align: right;\">\n",
              "      <th></th>\n",
              "      <th>tconst</th>\n",
              "      <th>titleType</th>\n",
              "      <th>primaryTitle</th>\n",
              "      <th>originalTitle</th>\n",
              "      <th>isAdult</th>\n",
              "      <th>startYear</th>\n",
              "      <th>endYear</th>\n",
              "      <th>runtimeMinutes</th>\n",
              "      <th>genres</th>\n",
              "    </tr>\n",
              "  </thead>\n",
              "  <tbody>\n",
              "    <tr>\n",
              "      <th>0</th>\n",
              "      <td>tt0000001</td>\n",
              "      <td>short</td>\n",
              "      <td>Carmencita</td>\n",
              "      <td>Carmencita</td>\n",
              "      <td>0</td>\n",
              "      <td>1894</td>\n",
              "      <td>\\N</td>\n",
              "      <td>1</td>\n",
              "      <td>Documentary,Short</td>\n",
              "    </tr>\n",
              "    <tr>\n",
              "      <th>1</th>\n",
              "      <td>tt0000002</td>\n",
              "      <td>short</td>\n",
              "      <td>Le clown et ses chiens</td>\n",
              "      <td>Le clown et ses chiens</td>\n",
              "      <td>0</td>\n",
              "      <td>1892</td>\n",
              "      <td>\\N</td>\n",
              "      <td>5</td>\n",
              "      <td>Animation,Short</td>\n",
              "    </tr>\n",
              "    <tr>\n",
              "      <th>2</th>\n",
              "      <td>tt0000003</td>\n",
              "      <td>short</td>\n",
              "      <td>Pauvre Pierrot</td>\n",
              "      <td>Pauvre Pierrot</td>\n",
              "      <td>0</td>\n",
              "      <td>1892</td>\n",
              "      <td>\\N</td>\n",
              "      <td>4</td>\n",
              "      <td>Animation,Comedy,Romance</td>\n",
              "    </tr>\n",
              "    <tr>\n",
              "      <th>3</th>\n",
              "      <td>tt0000004</td>\n",
              "      <td>short</td>\n",
              "      <td>Un bon bock</td>\n",
              "      <td>Un bon bock</td>\n",
              "      <td>0</td>\n",
              "      <td>1892</td>\n",
              "      <td>\\N</td>\n",
              "      <td>12</td>\n",
              "      <td>Animation,Short</td>\n",
              "    </tr>\n",
              "    <tr>\n",
              "      <th>4</th>\n",
              "      <td>tt0000005</td>\n",
              "      <td>short</td>\n",
              "      <td>Blacksmith Scene</td>\n",
              "      <td>Blacksmith Scene</td>\n",
              "      <td>0</td>\n",
              "      <td>1893</td>\n",
              "      <td>\\N</td>\n",
              "      <td>1</td>\n",
              "      <td>Comedy,Short</td>\n",
              "    </tr>\n",
              "  </tbody>\n",
              "</table>\n",
              "</div>"
            ],
            "text/plain": [
              "      tconst titleType  ... runtimeMinutes                    genres\n",
              "0  tt0000001     short  ...              1         Documentary,Short\n",
              "1  tt0000002     short  ...              5           Animation,Short\n",
              "2  tt0000003     short  ...              4  Animation,Comedy,Romance\n",
              "3  tt0000004     short  ...             12           Animation,Short\n",
              "4  tt0000005     short  ...              1              Comedy,Short\n",
              "\n",
              "[5 rows x 9 columns]"
            ]
          },
          "metadata": {
            "tags": []
          },
          "execution_count": 6
        }
      ]
    },
    {
      "cell_type": "code",
      "metadata": {
        "id": "I-9cickyP8ja"
      },
      "source": [
        "da=pd.read_table('title.ratings.tsv.gz',usecols=['tconst','averageRating','numVotes'],dtype={'averageRating':'float32','numVotes':'int32'})"
      ],
      "execution_count": 7,
      "outputs": []
    },
    {
      "cell_type": "code",
      "metadata": {
        "scrolled": true,
        "colab": {
          "base_uri": "https://localhost:8080/",
          "height": 204
        },
        "id": "x6Hf3_LsP8jb",
        "outputId": "32d37620-3126-4d17-f856-0b8523af1793"
      },
      "source": [
        "da.head()"
      ],
      "execution_count": 8,
      "outputs": [
        {
          "output_type": "execute_result",
          "data": {
            "text/html": [
              "<div>\n",
              "<style scoped>\n",
              "    .dataframe tbody tr th:only-of-type {\n",
              "        vertical-align: middle;\n",
              "    }\n",
              "\n",
              "    .dataframe tbody tr th {\n",
              "        vertical-align: top;\n",
              "    }\n",
              "\n",
              "    .dataframe thead th {\n",
              "        text-align: right;\n",
              "    }\n",
              "</style>\n",
              "<table border=\"1\" class=\"dataframe\">\n",
              "  <thead>\n",
              "    <tr style=\"text-align: right;\">\n",
              "      <th></th>\n",
              "      <th>tconst</th>\n",
              "      <th>averageRating</th>\n",
              "      <th>numVotes</th>\n",
              "    </tr>\n",
              "  </thead>\n",
              "  <tbody>\n",
              "    <tr>\n",
              "      <th>0</th>\n",
              "      <td>tt0000001</td>\n",
              "      <td>5.6</td>\n",
              "      <td>1694</td>\n",
              "    </tr>\n",
              "    <tr>\n",
              "      <th>1</th>\n",
              "      <td>tt0000002</td>\n",
              "      <td>6.0</td>\n",
              "      <td>210</td>\n",
              "    </tr>\n",
              "    <tr>\n",
              "      <th>2</th>\n",
              "      <td>tt0000003</td>\n",
              "      <td>6.5</td>\n",
              "      <td>1441</td>\n",
              "    </tr>\n",
              "    <tr>\n",
              "      <th>3</th>\n",
              "      <td>tt0000004</td>\n",
              "      <td>6.1</td>\n",
              "      <td>122</td>\n",
              "    </tr>\n",
              "    <tr>\n",
              "      <th>4</th>\n",
              "      <td>tt0000005</td>\n",
              "      <td>6.1</td>\n",
              "      <td>2240</td>\n",
              "    </tr>\n",
              "  </tbody>\n",
              "</table>\n",
              "</div>"
            ],
            "text/plain": [
              "      tconst  averageRating  numVotes\n",
              "0  tt0000001            5.6      1694\n",
              "1  tt0000002            6.0       210\n",
              "2  tt0000003            6.5      1441\n",
              "3  tt0000004            6.1       122\n",
              "4  tt0000005            6.1      2240"
            ]
          },
          "metadata": {
            "tags": []
          },
          "execution_count": 8
        }
      ]
    },
    {
      "cell_type": "code",
      "metadata": {
        "id": "3qAvvOwxP8jc"
      },
      "source": [
        "data=da.merge(basic)"
      ],
      "execution_count": 9,
      "outputs": []
    },
    {
      "cell_type": "code",
      "metadata": {
        "colab": {
          "base_uri": "https://localhost:8080/",
          "height": 258
        },
        "id": "HAAN5JEiP8jd",
        "outputId": "bded019f-f43e-44cd-92c1-4d40c07511eb"
      },
      "source": [
        "data.head()"
      ],
      "execution_count": 10,
      "outputs": [
        {
          "output_type": "execute_result",
          "data": {
            "text/html": [
              "<div>\n",
              "<style scoped>\n",
              "    .dataframe tbody tr th:only-of-type {\n",
              "        vertical-align: middle;\n",
              "    }\n",
              "\n",
              "    .dataframe tbody tr th {\n",
              "        vertical-align: top;\n",
              "    }\n",
              "\n",
              "    .dataframe thead th {\n",
              "        text-align: right;\n",
              "    }\n",
              "</style>\n",
              "<table border=\"1\" class=\"dataframe\">\n",
              "  <thead>\n",
              "    <tr style=\"text-align: right;\">\n",
              "      <th></th>\n",
              "      <th>tconst</th>\n",
              "      <th>averageRating</th>\n",
              "      <th>numVotes</th>\n",
              "      <th>titleType</th>\n",
              "      <th>primaryTitle</th>\n",
              "      <th>originalTitle</th>\n",
              "      <th>isAdult</th>\n",
              "      <th>startYear</th>\n",
              "      <th>endYear</th>\n",
              "      <th>runtimeMinutes</th>\n",
              "      <th>genres</th>\n",
              "    </tr>\n",
              "  </thead>\n",
              "  <tbody>\n",
              "    <tr>\n",
              "      <th>0</th>\n",
              "      <td>tt0000001</td>\n",
              "      <td>5.6</td>\n",
              "      <td>1694</td>\n",
              "      <td>short</td>\n",
              "      <td>Carmencita</td>\n",
              "      <td>Carmencita</td>\n",
              "      <td>0</td>\n",
              "      <td>1894</td>\n",
              "      <td>\\N</td>\n",
              "      <td>1</td>\n",
              "      <td>Documentary,Short</td>\n",
              "    </tr>\n",
              "    <tr>\n",
              "      <th>1</th>\n",
              "      <td>tt0000002</td>\n",
              "      <td>6.0</td>\n",
              "      <td>210</td>\n",
              "      <td>short</td>\n",
              "      <td>Le clown et ses chiens</td>\n",
              "      <td>Le clown et ses chiens</td>\n",
              "      <td>0</td>\n",
              "      <td>1892</td>\n",
              "      <td>\\N</td>\n",
              "      <td>5</td>\n",
              "      <td>Animation,Short</td>\n",
              "    </tr>\n",
              "    <tr>\n",
              "      <th>2</th>\n",
              "      <td>tt0000003</td>\n",
              "      <td>6.5</td>\n",
              "      <td>1441</td>\n",
              "      <td>short</td>\n",
              "      <td>Pauvre Pierrot</td>\n",
              "      <td>Pauvre Pierrot</td>\n",
              "      <td>0</td>\n",
              "      <td>1892</td>\n",
              "      <td>\\N</td>\n",
              "      <td>4</td>\n",
              "      <td>Animation,Comedy,Romance</td>\n",
              "    </tr>\n",
              "    <tr>\n",
              "      <th>3</th>\n",
              "      <td>tt0000004</td>\n",
              "      <td>6.1</td>\n",
              "      <td>122</td>\n",
              "      <td>short</td>\n",
              "      <td>Un bon bock</td>\n",
              "      <td>Un bon bock</td>\n",
              "      <td>0</td>\n",
              "      <td>1892</td>\n",
              "      <td>\\N</td>\n",
              "      <td>12</td>\n",
              "      <td>Animation,Short</td>\n",
              "    </tr>\n",
              "    <tr>\n",
              "      <th>4</th>\n",
              "      <td>tt0000005</td>\n",
              "      <td>6.1</td>\n",
              "      <td>2240</td>\n",
              "      <td>short</td>\n",
              "      <td>Blacksmith Scene</td>\n",
              "      <td>Blacksmith Scene</td>\n",
              "      <td>0</td>\n",
              "      <td>1893</td>\n",
              "      <td>\\N</td>\n",
              "      <td>1</td>\n",
              "      <td>Comedy,Short</td>\n",
              "    </tr>\n",
              "  </tbody>\n",
              "</table>\n",
              "</div>"
            ],
            "text/plain": [
              "      tconst  averageRating  ...  runtimeMinutes                    genres\n",
              "0  tt0000001            5.6  ...               1         Documentary,Short\n",
              "1  tt0000002            6.0  ...               5           Animation,Short\n",
              "2  tt0000003            6.5  ...               4  Animation,Comedy,Romance\n",
              "3  tt0000004            6.1  ...              12           Animation,Short\n",
              "4  tt0000005            6.1  ...               1              Comedy,Short\n",
              "\n",
              "[5 rows x 11 columns]"
            ]
          },
          "metadata": {
            "tags": []
          },
          "execution_count": 10
        }
      ]
    },
    {
      "cell_type": "code",
      "metadata": {
        "id": "NUTmsI0hP8je"
      },
      "source": [
        "data=data.drop('primaryTitle',axis=1)"
      ],
      "execution_count": 11,
      "outputs": []
    },
    {
      "cell_type": "code",
      "metadata": {
        "id": "KZ4XW7bFP8jg"
      },
      "source": [
        "data['averageRating']=data['averageRating'].astype(float)"
      ],
      "execution_count": 12,
      "outputs": []
    },
    {
      "cell_type": "code",
      "metadata": {
        "colab": {
          "base_uri": "https://localhost:8080/",
          "height": 258
        },
        "id": "3evZ-geHP8ji",
        "outputId": "542b7c35-8ab1-4fe6-a8e0-108be2e8294a"
      },
      "source": [
        "data['numVotes']=data['numVotes'].astype(float)\n",
        "data['runtimeMinutes']=pd.to_numeric(data['runtimeMinutes'],errors='coerce')\n",
        "data['startYear']=pd.to_numeric(data['startYear'],errors='coerce')\n",
        "data.head()"
      ],
      "execution_count": 13,
      "outputs": [
        {
          "output_type": "execute_result",
          "data": {
            "text/html": [
              "<div>\n",
              "<style scoped>\n",
              "    .dataframe tbody tr th:only-of-type {\n",
              "        vertical-align: middle;\n",
              "    }\n",
              "\n",
              "    .dataframe tbody tr th {\n",
              "        vertical-align: top;\n",
              "    }\n",
              "\n",
              "    .dataframe thead th {\n",
              "        text-align: right;\n",
              "    }\n",
              "</style>\n",
              "<table border=\"1\" class=\"dataframe\">\n",
              "  <thead>\n",
              "    <tr style=\"text-align: right;\">\n",
              "      <th></th>\n",
              "      <th>tconst</th>\n",
              "      <th>averageRating</th>\n",
              "      <th>numVotes</th>\n",
              "      <th>titleType</th>\n",
              "      <th>originalTitle</th>\n",
              "      <th>isAdult</th>\n",
              "      <th>startYear</th>\n",
              "      <th>endYear</th>\n",
              "      <th>runtimeMinutes</th>\n",
              "      <th>genres</th>\n",
              "    </tr>\n",
              "  </thead>\n",
              "  <tbody>\n",
              "    <tr>\n",
              "      <th>0</th>\n",
              "      <td>tt0000001</td>\n",
              "      <td>5.6</td>\n",
              "      <td>1694.0</td>\n",
              "      <td>short</td>\n",
              "      <td>Carmencita</td>\n",
              "      <td>0</td>\n",
              "      <td>1894.0</td>\n",
              "      <td>\\N</td>\n",
              "      <td>1.0</td>\n",
              "      <td>Documentary,Short</td>\n",
              "    </tr>\n",
              "    <tr>\n",
              "      <th>1</th>\n",
              "      <td>tt0000002</td>\n",
              "      <td>6.0</td>\n",
              "      <td>210.0</td>\n",
              "      <td>short</td>\n",
              "      <td>Le clown et ses chiens</td>\n",
              "      <td>0</td>\n",
              "      <td>1892.0</td>\n",
              "      <td>\\N</td>\n",
              "      <td>5.0</td>\n",
              "      <td>Animation,Short</td>\n",
              "    </tr>\n",
              "    <tr>\n",
              "      <th>2</th>\n",
              "      <td>tt0000003</td>\n",
              "      <td>6.5</td>\n",
              "      <td>1441.0</td>\n",
              "      <td>short</td>\n",
              "      <td>Pauvre Pierrot</td>\n",
              "      <td>0</td>\n",
              "      <td>1892.0</td>\n",
              "      <td>\\N</td>\n",
              "      <td>4.0</td>\n",
              "      <td>Animation,Comedy,Romance</td>\n",
              "    </tr>\n",
              "    <tr>\n",
              "      <th>3</th>\n",
              "      <td>tt0000004</td>\n",
              "      <td>6.1</td>\n",
              "      <td>122.0</td>\n",
              "      <td>short</td>\n",
              "      <td>Un bon bock</td>\n",
              "      <td>0</td>\n",
              "      <td>1892.0</td>\n",
              "      <td>\\N</td>\n",
              "      <td>12.0</td>\n",
              "      <td>Animation,Short</td>\n",
              "    </tr>\n",
              "    <tr>\n",
              "      <th>4</th>\n",
              "      <td>tt0000005</td>\n",
              "      <td>6.1</td>\n",
              "      <td>2240.0</td>\n",
              "      <td>short</td>\n",
              "      <td>Blacksmith Scene</td>\n",
              "      <td>0</td>\n",
              "      <td>1893.0</td>\n",
              "      <td>\\N</td>\n",
              "      <td>1.0</td>\n",
              "      <td>Comedy,Short</td>\n",
              "    </tr>\n",
              "  </tbody>\n",
              "</table>\n",
              "</div>"
            ],
            "text/plain": [
              "      tconst  averageRating  ...  runtimeMinutes                    genres\n",
              "0  tt0000001            5.6  ...             1.0         Documentary,Short\n",
              "1  tt0000002            6.0  ...             5.0           Animation,Short\n",
              "2  tt0000003            6.5  ...             4.0  Animation,Comedy,Romance\n",
              "3  tt0000004            6.1  ...            12.0           Animation,Short\n",
              "4  tt0000005            6.1  ...             1.0              Comedy,Short\n",
              "\n",
              "[5 rows x 10 columns]"
            ]
          },
          "metadata": {
            "tags": []
          },
          "execution_count": 13
        }
      ]
    },
    {
      "cell_type": "code",
      "metadata": {
        "id": "oyKFa217P8jj"
      },
      "source": [
        "df=data.dropna(subset=['genres', 'runtimeMinutes'])\n",
        "df = df.replace('', np.nan)"
      ],
      "execution_count": 14,
      "outputs": []
    },
    {
      "cell_type": "code",
      "metadata": {
        "colab": {
          "base_uri": "https://localhost:8080/",
          "height": 258
        },
        "id": "x70Da6ljP8jj",
        "outputId": "a6bfa9c1-8ecf-4d46-fd71-b23ae08977fc"
      },
      "source": [
        "df.head()"
      ],
      "execution_count": 15,
      "outputs": [
        {
          "output_type": "execute_result",
          "data": {
            "text/html": [
              "<div>\n",
              "<style scoped>\n",
              "    .dataframe tbody tr th:only-of-type {\n",
              "        vertical-align: middle;\n",
              "    }\n",
              "\n",
              "    .dataframe tbody tr th {\n",
              "        vertical-align: top;\n",
              "    }\n",
              "\n",
              "    .dataframe thead th {\n",
              "        text-align: right;\n",
              "    }\n",
              "</style>\n",
              "<table border=\"1\" class=\"dataframe\">\n",
              "  <thead>\n",
              "    <tr style=\"text-align: right;\">\n",
              "      <th></th>\n",
              "      <th>tconst</th>\n",
              "      <th>averageRating</th>\n",
              "      <th>numVotes</th>\n",
              "      <th>titleType</th>\n",
              "      <th>originalTitle</th>\n",
              "      <th>isAdult</th>\n",
              "      <th>startYear</th>\n",
              "      <th>endYear</th>\n",
              "      <th>runtimeMinutes</th>\n",
              "      <th>genres</th>\n",
              "    </tr>\n",
              "  </thead>\n",
              "  <tbody>\n",
              "    <tr>\n",
              "      <th>0</th>\n",
              "      <td>tt0000001</td>\n",
              "      <td>5.6</td>\n",
              "      <td>1694.0</td>\n",
              "      <td>short</td>\n",
              "      <td>Carmencita</td>\n",
              "      <td>0</td>\n",
              "      <td>1894.0</td>\n",
              "      <td>\\N</td>\n",
              "      <td>1.0</td>\n",
              "      <td>Documentary,Short</td>\n",
              "    </tr>\n",
              "    <tr>\n",
              "      <th>1</th>\n",
              "      <td>tt0000002</td>\n",
              "      <td>6.0</td>\n",
              "      <td>210.0</td>\n",
              "      <td>short</td>\n",
              "      <td>Le clown et ses chiens</td>\n",
              "      <td>0</td>\n",
              "      <td>1892.0</td>\n",
              "      <td>\\N</td>\n",
              "      <td>5.0</td>\n",
              "      <td>Animation,Short</td>\n",
              "    </tr>\n",
              "    <tr>\n",
              "      <th>2</th>\n",
              "      <td>tt0000003</td>\n",
              "      <td>6.5</td>\n",
              "      <td>1441.0</td>\n",
              "      <td>short</td>\n",
              "      <td>Pauvre Pierrot</td>\n",
              "      <td>0</td>\n",
              "      <td>1892.0</td>\n",
              "      <td>\\N</td>\n",
              "      <td>4.0</td>\n",
              "      <td>Animation,Comedy,Romance</td>\n",
              "    </tr>\n",
              "    <tr>\n",
              "      <th>3</th>\n",
              "      <td>tt0000004</td>\n",
              "      <td>6.1</td>\n",
              "      <td>122.0</td>\n",
              "      <td>short</td>\n",
              "      <td>Un bon bock</td>\n",
              "      <td>0</td>\n",
              "      <td>1892.0</td>\n",
              "      <td>\\N</td>\n",
              "      <td>12.0</td>\n",
              "      <td>Animation,Short</td>\n",
              "    </tr>\n",
              "    <tr>\n",
              "      <th>4</th>\n",
              "      <td>tt0000005</td>\n",
              "      <td>6.1</td>\n",
              "      <td>2240.0</td>\n",
              "      <td>short</td>\n",
              "      <td>Blacksmith Scene</td>\n",
              "      <td>0</td>\n",
              "      <td>1893.0</td>\n",
              "      <td>\\N</td>\n",
              "      <td>1.0</td>\n",
              "      <td>Comedy,Short</td>\n",
              "    </tr>\n",
              "  </tbody>\n",
              "</table>\n",
              "</div>"
            ],
            "text/plain": [
              "      tconst  averageRating  ...  runtimeMinutes                    genres\n",
              "0  tt0000001            5.6  ...             1.0         Documentary,Short\n",
              "1  tt0000002            6.0  ...             5.0           Animation,Short\n",
              "2  tt0000003            6.5  ...             4.0  Animation,Comedy,Romance\n",
              "3  tt0000004            6.1  ...            12.0           Animation,Short\n",
              "4  tt0000005            6.1  ...             1.0              Comedy,Short\n",
              "\n",
              "[5 rows x 10 columns]"
            ]
          },
          "metadata": {
            "tags": []
          },
          "execution_count": 15
        }
      ]
    },
    {
      "cell_type": "code",
      "metadata": {
        "id": "VuZPytg-P8jk"
      },
      "source": [
        "df['runtimeMinutes']=df['runtimeMinutes'].replace([\"\\\\N\"],'nan')"
      ],
      "execution_count": 16,
      "outputs": []
    },
    {
      "cell_type": "code",
      "metadata": {
        "id": "rhW2lxrAP8jl"
      },
      "source": [
        "df=df.drop('endYear',axis=1)"
      ],
      "execution_count": 17,
      "outputs": []
    },
    {
      "cell_type": "code",
      "metadata": {
        "id": "JVjLpDzvP8jl"
      },
      "source": [
        ""
      ],
      "execution_count": 17,
      "outputs": []
    },
    {
      "cell_type": "code",
      "metadata": {
        "colab": {
          "base_uri": "https://localhost:8080/"
        },
        "id": "RLGHf00_P8jm",
        "outputId": "149ca9c8-0d62-4e13-faaf-d758e4bec54c"
      },
      "source": [
        "df.isnull().sum()"
      ],
      "execution_count": 18,
      "outputs": [
        {
          "output_type": "execute_result",
          "data": {
            "text/plain": [
              "tconst             0\n",
              "averageRating      0\n",
              "numVotes           0\n",
              "titleType          0\n",
              "originalTitle      0\n",
              "isAdult            0\n",
              "startYear         60\n",
              "runtimeMinutes     0\n",
              "genres             0\n",
              "dtype: int64"
            ]
          },
          "metadata": {
            "tags": []
          },
          "execution_count": 18
        }
      ]
    },
    {
      "cell_type": "code",
      "metadata": {
        "colab": {
          "base_uri": "https://localhost:8080/",
          "height": 173
        },
        "id": "nWvKEdlhP8jn",
        "outputId": "0910866c-6235-4c44-b534-0bfd96243668"
      },
      "source": [
        "df.describe().T"
      ],
      "execution_count": 19,
      "outputs": [
        {
          "output_type": "execute_result",
          "data": {
            "text/html": [
              "<div>\n",
              "<style scoped>\n",
              "    .dataframe tbody tr th:only-of-type {\n",
              "        vertical-align: middle;\n",
              "    }\n",
              "\n",
              "    .dataframe tbody tr th {\n",
              "        vertical-align: top;\n",
              "    }\n",
              "\n",
              "    .dataframe thead th {\n",
              "        text-align: right;\n",
              "    }\n",
              "</style>\n",
              "<table border=\"1\" class=\"dataframe\">\n",
              "  <thead>\n",
              "    <tr style=\"text-align: right;\">\n",
              "      <th></th>\n",
              "      <th>count</th>\n",
              "      <th>mean</th>\n",
              "      <th>std</th>\n",
              "      <th>min</th>\n",
              "      <th>25%</th>\n",
              "      <th>50%</th>\n",
              "      <th>75%</th>\n",
              "      <th>max</th>\n",
              "    </tr>\n",
              "  </thead>\n",
              "  <tbody>\n",
              "    <tr>\n",
              "      <th>averageRating</th>\n",
              "      <td>832446.0</td>\n",
              "      <td>6.854481</td>\n",
              "      <td>1.355145</td>\n",
              "      <td>1.0</td>\n",
              "      <td>6.1</td>\n",
              "      <td>7.0</td>\n",
              "      <td>7.8</td>\n",
              "      <td>10.0</td>\n",
              "    </tr>\n",
              "    <tr>\n",
              "      <th>numVotes</th>\n",
              "      <td>832446.0</td>\n",
              "      <td>1286.966538</td>\n",
              "      <td>18775.182072</td>\n",
              "      <td>5.0</td>\n",
              "      <td>10.0</td>\n",
              "      <td>28.0</td>\n",
              "      <td>126.0</td>\n",
              "      <td>2369294.0</td>\n",
              "    </tr>\n",
              "    <tr>\n",
              "      <th>startYear</th>\n",
              "      <td>832386.0</td>\n",
              "      <td>1999.039443</td>\n",
              "      <td>21.640231</td>\n",
              "      <td>1874.0</td>\n",
              "      <td>1990.0</td>\n",
              "      <td>2007.0</td>\n",
              "      <td>2014.0</td>\n",
              "      <td>2021.0</td>\n",
              "    </tr>\n",
              "    <tr>\n",
              "      <th>runtimeMinutes</th>\n",
              "      <td>832446.0</td>\n",
              "      <td>55.401427</td>\n",
              "      <td>87.158263</td>\n",
              "      <td>0.0</td>\n",
              "      <td>23.0</td>\n",
              "      <td>45.0</td>\n",
              "      <td>86.0</td>\n",
              "      <td>51420.0</td>\n",
              "    </tr>\n",
              "  </tbody>\n",
              "</table>\n",
              "</div>"
            ],
            "text/plain": [
              "                   count         mean           std  ...     50%     75%        max\n",
              "averageRating   832446.0     6.854481      1.355145  ...     7.0     7.8       10.0\n",
              "numVotes        832446.0  1286.966538  18775.182072  ...    28.0   126.0  2369294.0\n",
              "startYear       832386.0  1999.039443     21.640231  ...  2007.0  2014.0     2021.0\n",
              "runtimeMinutes  832446.0    55.401427     87.158263  ...    45.0    86.0    51420.0\n",
              "\n",
              "[4 rows x 8 columns]"
            ]
          },
          "metadata": {
            "tags": []
          },
          "execution_count": 19
        }
      ]
    },
    {
      "cell_type": "code",
      "metadata": {
        "id": "jqxz59DeP8jo"
      },
      "source": [
        "df['isAdult']=pd.to_numeric(df['isAdult'],errors='coerce')"
      ],
      "execution_count": 20,
      "outputs": []
    },
    {
      "cell_type": "code",
      "metadata": {
        "colab": {
          "base_uri": "https://localhost:8080/",
          "height": 204
        },
        "id": "2XB8Otb-P8jo",
        "outputId": "a35a8515-1865-4035-d9c9-66297195b98c"
      },
      "source": [
        "df.describe().T"
      ],
      "execution_count": 21,
      "outputs": [
        {
          "output_type": "execute_result",
          "data": {
            "text/html": [
              "<div>\n",
              "<style scoped>\n",
              "    .dataframe tbody tr th:only-of-type {\n",
              "        vertical-align: middle;\n",
              "    }\n",
              "\n",
              "    .dataframe tbody tr th {\n",
              "        vertical-align: top;\n",
              "    }\n",
              "\n",
              "    .dataframe thead th {\n",
              "        text-align: right;\n",
              "    }\n",
              "</style>\n",
              "<table border=\"1\" class=\"dataframe\">\n",
              "  <thead>\n",
              "    <tr style=\"text-align: right;\">\n",
              "      <th></th>\n",
              "      <th>count</th>\n",
              "      <th>mean</th>\n",
              "      <th>std</th>\n",
              "      <th>min</th>\n",
              "      <th>25%</th>\n",
              "      <th>50%</th>\n",
              "      <th>75%</th>\n",
              "      <th>max</th>\n",
              "    </tr>\n",
              "  </thead>\n",
              "  <tbody>\n",
              "    <tr>\n",
              "      <th>averageRating</th>\n",
              "      <td>832446.0</td>\n",
              "      <td>6.854481</td>\n",
              "      <td>1.355145</td>\n",
              "      <td>1.0</td>\n",
              "      <td>6.1</td>\n",
              "      <td>7.0</td>\n",
              "      <td>7.8</td>\n",
              "      <td>10.0</td>\n",
              "    </tr>\n",
              "    <tr>\n",
              "      <th>numVotes</th>\n",
              "      <td>832446.0</td>\n",
              "      <td>1286.966538</td>\n",
              "      <td>18775.182072</td>\n",
              "      <td>5.0</td>\n",
              "      <td>10.0</td>\n",
              "      <td>28.0</td>\n",
              "      <td>126.0</td>\n",
              "      <td>2369294.0</td>\n",
              "    </tr>\n",
              "    <tr>\n",
              "      <th>isAdult</th>\n",
              "      <td>832446.0</td>\n",
              "      <td>0.017374</td>\n",
              "      <td>0.130661</td>\n",
              "      <td>0.0</td>\n",
              "      <td>0.0</td>\n",
              "      <td>0.0</td>\n",
              "      <td>0.0</td>\n",
              "      <td>1.0</td>\n",
              "    </tr>\n",
              "    <tr>\n",
              "      <th>startYear</th>\n",
              "      <td>832386.0</td>\n",
              "      <td>1999.039443</td>\n",
              "      <td>21.640231</td>\n",
              "      <td>1874.0</td>\n",
              "      <td>1990.0</td>\n",
              "      <td>2007.0</td>\n",
              "      <td>2014.0</td>\n",
              "      <td>2021.0</td>\n",
              "    </tr>\n",
              "    <tr>\n",
              "      <th>runtimeMinutes</th>\n",
              "      <td>832446.0</td>\n",
              "      <td>55.401427</td>\n",
              "      <td>87.158263</td>\n",
              "      <td>0.0</td>\n",
              "      <td>23.0</td>\n",
              "      <td>45.0</td>\n",
              "      <td>86.0</td>\n",
              "      <td>51420.0</td>\n",
              "    </tr>\n",
              "  </tbody>\n",
              "</table>\n",
              "</div>"
            ],
            "text/plain": [
              "                   count         mean           std  ...     50%     75%        max\n",
              "averageRating   832446.0     6.854481      1.355145  ...     7.0     7.8       10.0\n",
              "numVotes        832446.0  1286.966538  18775.182072  ...    28.0   126.0  2369294.0\n",
              "isAdult         832446.0     0.017374      0.130661  ...     0.0     0.0        1.0\n",
              "startYear       832386.0  1999.039443     21.640231  ...  2007.0  2014.0     2021.0\n",
              "runtimeMinutes  832446.0    55.401427     87.158263  ...    45.0    86.0    51420.0\n",
              "\n",
              "[5 rows x 8 columns]"
            ]
          },
          "metadata": {
            "tags": []
          },
          "execution_count": 21
        }
      ]
    },
    {
      "cell_type": "code",
      "metadata": {
        "id": "7Q3mL30hP8jp"
      },
      "source": [
        "#sns.pairplot(df.drop('isAdult', axis=1));"
      ],
      "execution_count": 22,
      "outputs": []
    },
    {
      "cell_type": "code",
      "metadata": {
        "id": "kt_hbsvxP8jq"
      },
      "source": [
        "cols = [\n",
        "    'originalTitle',\n",
        "    'titleType',\n",
        "    'averageRating',\n",
        "    'numVotes',\n",
        "    'startYear',\n",
        "    'runtimeMinutes',\n",
        "    'genres',\n",
        "]"
      ],
      "execution_count": 23,
      "outputs": []
    },
    {
      "cell_type": "code",
      "metadata": {
        "id": "iB3NSGAwP8jq"
      },
      "source": [
        "#converting string data to interger\n",
        "le = LabelEncoder()\n",
        "dataset = df[cols].dropna().copy()\n",
        "dataset['titleType'] = le.fit_transform(dataset['titleType'])"
      ],
      "execution_count": 24,
      "outputs": []
    },
    {
      "cell_type": "code",
      "metadata": {
        "colab": {
          "base_uri": "https://localhost:8080/",
          "height": 204
        },
        "id": "wIjWygvDP8jr",
        "outputId": "6c4fddec-7ed3-41f9-cbc5-30e407f1edf4"
      },
      "source": [
        "dataset.head()"
      ],
      "execution_count": 25,
      "outputs": [
        {
          "output_type": "execute_result",
          "data": {
            "text/html": [
              "<div>\n",
              "<style scoped>\n",
              "    .dataframe tbody tr th:only-of-type {\n",
              "        vertical-align: middle;\n",
              "    }\n",
              "\n",
              "    .dataframe tbody tr th {\n",
              "        vertical-align: top;\n",
              "    }\n",
              "\n",
              "    .dataframe thead th {\n",
              "        text-align: right;\n",
              "    }\n",
              "</style>\n",
              "<table border=\"1\" class=\"dataframe\">\n",
              "  <thead>\n",
              "    <tr style=\"text-align: right;\">\n",
              "      <th></th>\n",
              "      <th>originalTitle</th>\n",
              "      <th>titleType</th>\n",
              "      <th>averageRating</th>\n",
              "      <th>numVotes</th>\n",
              "      <th>startYear</th>\n",
              "      <th>runtimeMinutes</th>\n",
              "      <th>genres</th>\n",
              "    </tr>\n",
              "  </thead>\n",
              "  <tbody>\n",
              "    <tr>\n",
              "      <th>0</th>\n",
              "      <td>Carmencita</td>\n",
              "      <td>1</td>\n",
              "      <td>5.6</td>\n",
              "      <td>1694.0</td>\n",
              "      <td>1894.0</td>\n",
              "      <td>1.0</td>\n",
              "      <td>Documentary,Short</td>\n",
              "    </tr>\n",
              "    <tr>\n",
              "      <th>1</th>\n",
              "      <td>Le clown et ses chiens</td>\n",
              "      <td>1</td>\n",
              "      <td>6.0</td>\n",
              "      <td>210.0</td>\n",
              "      <td>1892.0</td>\n",
              "      <td>5.0</td>\n",
              "      <td>Animation,Short</td>\n",
              "    </tr>\n",
              "    <tr>\n",
              "      <th>2</th>\n",
              "      <td>Pauvre Pierrot</td>\n",
              "      <td>1</td>\n",
              "      <td>6.5</td>\n",
              "      <td>1441.0</td>\n",
              "      <td>1892.0</td>\n",
              "      <td>4.0</td>\n",
              "      <td>Animation,Comedy,Romance</td>\n",
              "    </tr>\n",
              "    <tr>\n",
              "      <th>3</th>\n",
              "      <td>Un bon bock</td>\n",
              "      <td>1</td>\n",
              "      <td>6.1</td>\n",
              "      <td>122.0</td>\n",
              "      <td>1892.0</td>\n",
              "      <td>12.0</td>\n",
              "      <td>Animation,Short</td>\n",
              "    </tr>\n",
              "    <tr>\n",
              "      <th>4</th>\n",
              "      <td>Blacksmith Scene</td>\n",
              "      <td>1</td>\n",
              "      <td>6.1</td>\n",
              "      <td>2240.0</td>\n",
              "      <td>1893.0</td>\n",
              "      <td>1.0</td>\n",
              "      <td>Comedy,Short</td>\n",
              "    </tr>\n",
              "  </tbody>\n",
              "</table>\n",
              "</div>"
            ],
            "text/plain": [
              "            originalTitle  titleType  ...  runtimeMinutes                    genres\n",
              "0              Carmencita          1  ...             1.0         Documentary,Short\n",
              "1  Le clown et ses chiens          1  ...             5.0           Animation,Short\n",
              "2          Pauvre Pierrot          1  ...             4.0  Animation,Comedy,Romance\n",
              "3             Un bon bock          1  ...            12.0           Animation,Short\n",
              "4        Blacksmith Scene          1  ...             1.0              Comedy,Short\n",
              "\n",
              "[5 rows x 7 columns]"
            ]
          },
          "metadata": {
            "tags": []
          },
          "execution_count": 25
        }
      ]
    },
    {
      "cell_type": "code",
      "metadata": {
        "id": "jcRrnZZ7P8jt"
      },
      "source": [
        "#feature Importance "
      ],
      "execution_count": 26,
      "outputs": []
    },
    {
      "cell_type": "code",
      "metadata": {
        "id": "HQMGdON-P8jt"
      },
      "source": [
        "def imp_df(column_names, importances):\n",
        "    data = {\n",
        "        'Feature': column_names,\n",
        "        'Importance': importances,\n",
        "    }\n",
        "    df = pd.DataFrame(data) \\\n",
        "        .set_index('Feature') \\\n",
        "        .sort_values('Importance', ascending=False)\n",
        "    \n",
        "    return df"
      ],
      "execution_count": 27,
      "outputs": []
    },
    {
      "cell_type": "code",
      "metadata": {
        "id": "LdfRS1fzP8ju"
      },
      "source": [
        "#r2 score\n",
        "def r2(rf, X_train, y_train):\n",
        "    return r2_score(y_train, rf.predict(X_train))"
      ],
      "execution_count": 28,
      "outputs": []
    },
    {
      "cell_type": "code",
      "metadata": {
        "id": "I6iDkdd_P8jx"
      },
      "source": [
        "def drop_col_feat_imp(model, X_train, y_train, random_state=42):\n",
        "    model_clone = clone(model)\n",
        "    model_clone.random_state = random_state\n",
        "    \n",
        "    model_clone.fit(X_train, y_train)\n",
        "    benchmark_score = model_clone.score(X_train, y_train)\n",
        "    \n",
        "    importances = []\n",
        "    \n",
        "    for col in X_train.columns:\n",
        "        model_clone = clone(model)\n",
        "        model_clone.random_state = random_state\n",
        "        model_clone.fit(X_train.drop(col, axis=1), y_train)\n",
        "        drop_col_score = model_clone.score(X_train.drop(col, axis=1), y_train)\n",
        "        importances.append(benchmark_score - drop_col_score)\n",
        "    \n",
        "    return imp_df(X_train.columns, importances)"
      ],
      "execution_count": 29,
      "outputs": []
    },
    {
      "cell_type": "code",
      "metadata": {
        "id": "Lq_6rHdOP8jz"
      },
      "source": [
        "X = dataset.drop(['averageRating', 'originalTitle', 'genres'], axis=1)\n",
        "y = dataset['averageRating']"
      ],
      "execution_count": 30,
      "outputs": []
    },
    {
      "cell_type": "code",
      "metadata": {
        "id": "qcqeJHdFP8j0"
      },
      "source": [
        "# feature importances\n",
        "#from rfpimp import permutation_importances\n",
        "from sklearn.base import clone\n",
        "from sklearn.ensemble import RandomForestRegressor\n",
        "from sklearn.metrics import r2_score\n",
        "from sklearn.model_selection import train_test_split\n",
        "\n",
        "# clustering 1d array\n",
        "from scipy.signal import argrelextrema\n",
        "from sklearn.neighbors import KernelDensity\n"
      ],
      "execution_count": 31,
      "outputs": []
    },
    {
      "cell_type": "code",
      "metadata": {
        "id": "c6D4qU99P8j0"
      },
      "source": [
        "#dividing data into training and  test data.\n",
        "X_train, X_test, y_train, y_test = train_test_split(X, y, test_size=.2, random_state=0)"
      ],
      "execution_count": 32,
      "outputs": []
    },
    {
      "cell_type": "code",
      "metadata": {
        "id": "ktqL7eoHP8j0"
      },
      "source": [
        "#Model Training"
      ],
      "execution_count": 33,
      "outputs": []
    },
    {
      "cell_type": "code",
      "metadata": {
        "id": "DNaOxitFP8j1"
      },
      "source": [
        "rf = RandomForestRegressor().fit(X_train, y_train)"
      ],
      "execution_count": 34,
      "outputs": []
    },
    {
      "cell_type": "code",
      "metadata": {
        "colab": {
          "base_uri": "https://localhost:8080/"
        },
        "id": "olnjkOQhP8j1",
        "outputId": "b30d7cf2-078d-4acb-d2d1-ab82d3e8168f"
      },
      "source": [
        "rf.score(X_train, y_train)"
      ],
      "execution_count": 35,
      "outputs": [
        {
          "output_type": "execute_result",
          "data": {
            "text/plain": [
              "0.6842930169036165"
            ]
          },
          "metadata": {
            "tags": []
          },
          "execution_count": 35
        }
      ]
    },
    {
      "cell_type": "code",
      "metadata": {
        "id": "XMswXyiBP8j1"
      },
      "source": [
        "#Features importances by random forests"
      ],
      "execution_count": 36,
      "outputs": []
    },
    {
      "cell_type": "code",
      "metadata": {
        "colab": {
          "base_uri": "https://localhost:8080/",
          "height": 204
        },
        "id": "bPB2u2hkP8j2",
        "outputId": "4daa6af0-13c8-4f7b-e575-747f283fb96b"
      },
      "source": [
        "imp_df(X.columns, rf.feature_importances_)"
      ],
      "execution_count": 37,
      "outputs": [
        {
          "output_type": "execute_result",
          "data": {
            "text/html": [
              "<div>\n",
              "<style scoped>\n",
              "    .dataframe tbody tr th:only-of-type {\n",
              "        vertical-align: middle;\n",
              "    }\n",
              "\n",
              "    .dataframe tbody tr th {\n",
              "        vertical-align: top;\n",
              "    }\n",
              "\n",
              "    .dataframe thead th {\n",
              "        text-align: right;\n",
              "    }\n",
              "</style>\n",
              "<table border=\"1\" class=\"dataframe\">\n",
              "  <thead>\n",
              "    <tr style=\"text-align: right;\">\n",
              "      <th></th>\n",
              "      <th>Importance</th>\n",
              "    </tr>\n",
              "    <tr>\n",
              "      <th>Feature</th>\n",
              "      <th></th>\n",
              "    </tr>\n",
              "  </thead>\n",
              "  <tbody>\n",
              "    <tr>\n",
              "      <th>runtimeMinutes</th>\n",
              "      <td>0.336972</td>\n",
              "    </tr>\n",
              "    <tr>\n",
              "      <th>numVotes</th>\n",
              "      <td>0.328651</td>\n",
              "    </tr>\n",
              "    <tr>\n",
              "      <th>startYear</th>\n",
              "      <td>0.254006</td>\n",
              "    </tr>\n",
              "    <tr>\n",
              "      <th>titleType</th>\n",
              "      <td>0.080371</td>\n",
              "    </tr>\n",
              "  </tbody>\n",
              "</table>\n",
              "</div>"
            ],
            "text/plain": [
              "                Importance\n",
              "Feature                   \n",
              "runtimeMinutes    0.336972\n",
              "numVotes          0.328651\n",
              "startYear         0.254006\n",
              "titleType         0.080371"
            ]
          },
          "metadata": {
            "tags": []
          },
          "execution_count": 37
        }
      ]
    },
    {
      "cell_type": "code",
      "metadata": {
        "id": "PHdW1aPlP8j2"
      },
      "source": [
        "#Makeing feature importances comparisons by deleting columns one by one"
      ],
      "execution_count": 38,
      "outputs": []
    },
    {
      "cell_type": "code",
      "metadata": {
        "colab": {
          "base_uri": "https://localhost:8080/",
          "height": 204
        },
        "id": "fHE80WRPP8j2",
        "outputId": "68d46a07-db86-477a-d75d-75a3c45621cb"
      },
      "source": [
        "drop_col_feat_imp(rf, X_train, y_train)"
      ],
      "execution_count": 39,
      "outputs": [
        {
          "output_type": "execute_result",
          "data": {
            "text/html": [
              "<div>\n",
              "<style scoped>\n",
              "    .dataframe tbody tr th:only-of-type {\n",
              "        vertical-align: middle;\n",
              "    }\n",
              "\n",
              "    .dataframe tbody tr th {\n",
              "        vertical-align: top;\n",
              "    }\n",
              "\n",
              "    .dataframe thead th {\n",
              "        text-align: right;\n",
              "    }\n",
              "</style>\n",
              "<table border=\"1\" class=\"dataframe\">\n",
              "  <thead>\n",
              "    <tr style=\"text-align: right;\">\n",
              "      <th></th>\n",
              "      <th>Importance</th>\n",
              "    </tr>\n",
              "    <tr>\n",
              "      <th>Feature</th>\n",
              "      <th></th>\n",
              "    </tr>\n",
              "  </thead>\n",
              "  <tbody>\n",
              "    <tr>\n",
              "      <th>numVotes</th>\n",
              "      <td>0.405367</td>\n",
              "    </tr>\n",
              "    <tr>\n",
              "      <th>runtimeMinutes</th>\n",
              "      <td>0.313632</td>\n",
              "    </tr>\n",
              "    <tr>\n",
              "      <th>startYear</th>\n",
              "      <td>0.307715</td>\n",
              "    </tr>\n",
              "    <tr>\n",
              "      <th>titleType</th>\n",
              "      <td>0.094186</td>\n",
              "    </tr>\n",
              "  </tbody>\n",
              "</table>\n",
              "</div>"
            ],
            "text/plain": [
              "                Importance\n",
              "Feature                   \n",
              "numVotes          0.405367\n",
              "runtimeMinutes    0.313632\n",
              "startYear         0.307715\n",
              "titleType         0.094186"
            ]
          },
          "metadata": {
            "tags": []
          },
          "execution_count": 39
        }
      ]
    },
    {
      "cell_type": "code",
      "metadata": {
        "id": "PpDb7JVVP8j3"
      },
      "source": [
        "#Scoring"
      ],
      "execution_count": 40,
      "outputs": []
    },
    {
      "cell_type": "code",
      "metadata": {
        "id": "ITZ9ORmaP8j3"
      },
      "source": [
        "dataset['score'] = (\n",
        "    0.4821 * dataset['numVotes'] + 0.3502 * dataset['runtimeMinutes'] + \n",
        "    0.3710 * dataset['startYear'] + 0.0541 * dataset['titleType']\n",
        ")\n",
        "dataset = dataset.reset_index(drop=True)"
      ],
      "execution_count": 42,
      "outputs": []
    },
    {
      "cell_type": "code",
      "metadata": {
        "colab": {
          "base_uri": "https://localhost:8080/",
          "height": 873
        },
        "id": "wC6bdPKHP8j3",
        "outputId": "44b4373c-bf1c-49a3-ca6c-29f70e38a950"
      },
      "source": [
        "dataset.sort_values(by='score', ascending=False).head(20)"
      ],
      "execution_count": 43,
      "outputs": [
        {
          "output_type": "execute_result",
          "data": {
            "text/html": [
              "<div>\n",
              "<style scoped>\n",
              "    .dataframe tbody tr th:only-of-type {\n",
              "        vertical-align: middle;\n",
              "    }\n",
              "\n",
              "    .dataframe tbody tr th {\n",
              "        vertical-align: top;\n",
              "    }\n",
              "\n",
              "    .dataframe thead th {\n",
              "        text-align: right;\n",
              "    }\n",
              "</style>\n",
              "<table border=\"1\" class=\"dataframe\">\n",
              "  <thead>\n",
              "    <tr style=\"text-align: right;\">\n",
              "      <th></th>\n",
              "      <th>originalTitle</th>\n",
              "      <th>titleType</th>\n",
              "      <th>averageRating</th>\n",
              "      <th>numVotes</th>\n",
              "      <th>startYear</th>\n",
              "      <th>runtimeMinutes</th>\n",
              "      <th>genres</th>\n",
              "      <th>score</th>\n",
              "    </tr>\n",
              "  </thead>\n",
              "  <tbody>\n",
              "    <tr>\n",
              "      <th>77850</th>\n",
              "      <td>The Shawshank Redemption</td>\n",
              "      <td>0</td>\n",
              "      <td>9.3</td>\n",
              "      <td>2369294.0</td>\n",
              "      <td>1994.0</td>\n",
              "      <td>142.0</td>\n",
              "      <td>Drama</td>\n",
              "      <td>1.143026e+06</td>\n",
              "    </tr>\n",
              "    <tr>\n",
              "      <th>208912</th>\n",
              "      <td>The Dark Knight</td>\n",
              "      <td>0</td>\n",
              "      <td>9.0</td>\n",
              "      <td>2332286.0</td>\n",
              "      <td>2008.0</td>\n",
              "      <td>152.0</td>\n",
              "      <td>Action,Crime,Drama</td>\n",
              "      <td>1.125193e+06</td>\n",
              "    </tr>\n",
              "    <tr>\n",
              "      <th>444986</th>\n",
              "      <td>Inception</td>\n",
              "      <td>0</td>\n",
              "      <td>8.8</td>\n",
              "      <td>2092436.0</td>\n",
              "      <td>2010.0</td>\n",
              "      <td>148.0</td>\n",
              "      <td>Action,Adventure,Sci-Fi</td>\n",
              "      <td>1.009561e+06</td>\n",
              "    </tr>\n",
              "    <tr>\n",
              "      <th>92484</th>\n",
              "      <td>Fight Club</td>\n",
              "      <td>0</td>\n",
              "      <td>8.8</td>\n",
              "      <td>1875216.0</td>\n",
              "      <td>1999.0</td>\n",
              "      <td>139.0</td>\n",
              "      <td>Drama</td>\n",
              "      <td>9.048319e+05</td>\n",
              "    </tr>\n",
              "    <tr>\n",
              "      <th>77643</th>\n",
              "      <td>Pulp Fiction</td>\n",
              "      <td>0</td>\n",
              "      <td>8.9</td>\n",
              "      <td>1846162.0</td>\n",
              "      <td>1994.0</td>\n",
              "      <td>154.0</td>\n",
              "      <td>Crime,Drama</td>\n",
              "      <td>8.908284e+05</td>\n",
              "    </tr>\n",
              "    <tr>\n",
              "      <th>76816</th>\n",
              "      <td>Forrest Gump</td>\n",
              "      <td>0</td>\n",
              "      <td>8.8</td>\n",
              "      <td>1831906.0</td>\n",
              "      <td>1994.0</td>\n",
              "      <td>142.0</td>\n",
              "      <td>Drama,Romance</td>\n",
              "      <td>8.839514e+05</td>\n",
              "    </tr>\n",
              "    <tr>\n",
              "      <th>336539</th>\n",
              "      <td>Game of Thrones</td>\n",
              "      <td>5</td>\n",
              "      <td>9.3</td>\n",
              "      <td>1788985.0</td>\n",
              "      <td>2011.0</td>\n",
              "      <td>57.0</td>\n",
              "      <td>Action,Adventure,Drama</td>\n",
              "      <td>8.632360e+05</td>\n",
              "    </tr>\n",
              "    <tr>\n",
              "      <th>90661</th>\n",
              "      <td>The Matrix</td>\n",
              "      <td>0</td>\n",
              "      <td>8.7</td>\n",
              "      <td>1694977.0</td>\n",
              "      <td>1999.0</td>\n",
              "      <td>136.0</td>\n",
              "      <td>Action,Sci-Fi</td>\n",
              "      <td>8.179377e+05</td>\n",
              "    </tr>\n",
              "    <tr>\n",
              "      <th>85050</th>\n",
              "      <td>The Lord of the Rings: The Fellowship of the Ring</td>\n",
              "      <td>0</td>\n",
              "      <td>8.8</td>\n",
              "      <td>1678782.0</td>\n",
              "      <td>2001.0</td>\n",
              "      <td>178.0</td>\n",
              "      <td>Action,Adventure,Drama</td>\n",
              "      <td>8.101455e+05</td>\n",
              "    </tr>\n",
              "    <tr>\n",
              "      <th>104729</th>\n",
              "      <td>The Lord of the Rings: The Return of the King</td>\n",
              "      <td>0</td>\n",
              "      <td>8.9</td>\n",
              "      <td>1659011.0</td>\n",
              "      <td>2003.0</td>\n",
              "      <td>201.0</td>\n",
              "      <td>Action,Adventure,Drama</td>\n",
              "      <td>8.006227e+05</td>\n",
              "    </tr>\n",
              "    <tr>\n",
              "      <th>43566</th>\n",
              "      <td>The Godfather</td>\n",
              "      <td>0</td>\n",
              "      <td>9.2</td>\n",
              "      <td>1640634.0</td>\n",
              "      <td>1972.0</td>\n",
              "      <td>175.0</td>\n",
              "      <td>Crime,Drama</td>\n",
              "      <td>7.917425e+05</td>\n",
              "    </tr>\n",
              "    <tr>\n",
              "      <th>312163</th>\n",
              "      <td>Interstellar</td>\n",
              "      <td>0</td>\n",
              "      <td>8.6</td>\n",
              "      <td>1536854.0</td>\n",
              "      <td>2014.0</td>\n",
              "      <td>169.0</td>\n",
              "      <td>Adventure,Drama,Sci-Fi</td>\n",
              "      <td>7.417237e+05</td>\n",
              "    </tr>\n",
              "    <tr>\n",
              "      <th>438630</th>\n",
              "      <td>The Dark Knight Rises</td>\n",
              "      <td>0</td>\n",
              "      <td>8.4</td>\n",
              "      <td>1531638.0</td>\n",
              "      <td>2012.0</td>\n",
              "      <td>164.0</td>\n",
              "      <td>Action,Adventure</td>\n",
              "      <td>7.392066e+05</td>\n",
              "    </tr>\n",
              "    <tr>\n",
              "      <th>104730</th>\n",
              "      <td>The Lord of the Rings: The Two Towers</td>\n",
              "      <td>0</td>\n",
              "      <td>8.7</td>\n",
              "      <td>1500231.0</td>\n",
              "      <td>2002.0</td>\n",
              "      <td>179.0</td>\n",
              "      <td>Action,Adventure,Drama</td>\n",
              "      <td>7.240668e+05</td>\n",
              "    </tr>\n",
              "    <tr>\n",
              "      <th>329892</th>\n",
              "      <td>Breaking Bad</td>\n",
              "      <td>5</td>\n",
              "      <td>9.5</td>\n",
              "      <td>1486688.0</td>\n",
              "      <td>2008.0</td>\n",
              "      <td>49.0</td>\n",
              "      <td>Crime,Drama,Thriller</td>\n",
              "      <td>7.174947e+05</td>\n",
              "    </tr>\n",
              "    <tr>\n",
              "      <th>80228</th>\n",
              "      <td>Se7en</td>\n",
              "      <td>0</td>\n",
              "      <td>8.6</td>\n",
              "      <td>1462796.0</td>\n",
              "      <td>1995.0</td>\n",
              "      <td>127.0</td>\n",
              "      <td>Crime,Drama,Mystery</td>\n",
              "      <td>7.059986e+05</td>\n",
              "    </tr>\n",
              "    <tr>\n",
              "      <th>510946</th>\n",
              "      <td>Django Unchained</td>\n",
              "      <td>0</td>\n",
              "      <td>8.4</td>\n",
              "      <td>1374735.0</td>\n",
              "      <td>2012.0</td>\n",
              "      <td>165.0</td>\n",
              "      <td>Drama,Western</td>\n",
              "      <td>6.635640e+05</td>\n",
              "    </tr>\n",
              "    <tr>\n",
              "      <th>106847</th>\n",
              "      <td>Gladiator</td>\n",
              "      <td>0</td>\n",
              "      <td>8.5</td>\n",
              "      <td>1354762.0</td>\n",
              "      <td>2000.0</td>\n",
              "      <td>155.0</td>\n",
              "      <td>Action,Adventure,Drama</td>\n",
              "      <td>6.539270e+05</td>\n",
              "    </tr>\n",
              "    <tr>\n",
              "      <th>177570</th>\n",
              "      <td>Batman Begins</td>\n",
              "      <td>0</td>\n",
              "      <td>8.2</td>\n",
              "      <td>1321287.0</td>\n",
              "      <td>2005.0</td>\n",
              "      <td>140.0</td>\n",
              "      <td>Action,Adventure</td>\n",
              "      <td>6.377853e+05</td>\n",
              "    </tr>\n",
              "    <tr>\n",
              "      <th>71502</th>\n",
              "      <td>The Silence of the Lambs</td>\n",
              "      <td>0</td>\n",
              "      <td>8.6</td>\n",
              "      <td>1286236.0</td>\n",
              "      <td>1991.0</td>\n",
              "      <td>118.0</td>\n",
              "      <td>Crime,Drama,Thriller</td>\n",
              "      <td>6.208744e+05</td>\n",
              "    </tr>\n",
              "  </tbody>\n",
              "</table>\n",
              "</div>"
            ],
            "text/plain": [
              "                                            originalTitle  ...         score\n",
              "77850                            The Shawshank Redemption  ...  1.143026e+06\n",
              "208912                                    The Dark Knight  ...  1.125193e+06\n",
              "444986                                          Inception  ...  1.009561e+06\n",
              "92484                                          Fight Club  ...  9.048319e+05\n",
              "77643                                        Pulp Fiction  ...  8.908284e+05\n",
              "76816                                        Forrest Gump  ...  8.839514e+05\n",
              "336539                                    Game of Thrones  ...  8.632360e+05\n",
              "90661                                          The Matrix  ...  8.179377e+05\n",
              "85050   The Lord of the Rings: The Fellowship of the Ring  ...  8.101455e+05\n",
              "104729      The Lord of the Rings: The Return of the King  ...  8.006227e+05\n",
              "43566                                       The Godfather  ...  7.917425e+05\n",
              "312163                                       Interstellar  ...  7.417237e+05\n",
              "438630                              The Dark Knight Rises  ...  7.392066e+05\n",
              "104730              The Lord of the Rings: The Two Towers  ...  7.240668e+05\n",
              "329892                                       Breaking Bad  ...  7.174947e+05\n",
              "80228                                               Se7en  ...  7.059986e+05\n",
              "510946                                   Django Unchained  ...  6.635640e+05\n",
              "106847                                          Gladiator  ...  6.539270e+05\n",
              "177570                                      Batman Begins  ...  6.377853e+05\n",
              "71502                            The Silence of the Lambs  ...  6.208744e+05\n",
              "\n",
              "[20 rows x 8 columns]"
            ]
          },
          "metadata": {
            "tags": []
          },
          "execution_count": 43
        }
      ]
    },
    {
      "cell_type": "code",
      "metadata": {
        "colab": {
          "base_uri": "https://localhost:8080/"
        },
        "id": "WqMMrYeTP8j4",
        "outputId": "36a38b7d-c3de-4f28-cff3-b70705ecb30c"
      },
      "source": [
        "dataset['score'].describe().T"
      ],
      "execution_count": 44,
      "outputs": [
        {
          "output_type": "execute_result",
          "data": {
            "text/plain": [
              "count    8.323860e+05\n",
              "mean     1.381640e+03\n",
              "std      9.053179e+03\n",
              "min      7.062308e+02\n",
              "25%      7.613863e+02\n",
              "50%      7.783188e+02\n",
              "75%      8.267690e+02\n",
              "max      1.143026e+06\n",
              "Name: score, dtype: float64"
            ]
          },
          "metadata": {
            "tags": []
          },
          "execution_count": 44
        }
      ]
    },
    {
      "cell_type": "code",
      "metadata": {
        "id": "f4QHdBhWP8j4"
      },
      "source": [
        "#clusturing the data"
      ],
      "execution_count": 45,
      "outputs": []
    },
    {
      "cell_type": "code",
      "metadata": {
        "colab": {
          "base_uri": "https://localhost:8080/",
          "height": 453
        },
        "id": "5Tj6hipbP8j4",
        "outputId": "93ffbbaf-b1ab-46dc-ce31-347b35ffa5c8"
      },
      "source": [
        "plt.figure(figsize=(9, 6))\n",
        "sns.distplot(dataset['score'])\n",
        "plt.axvline(20000, color='r');"
      ],
      "execution_count": 46,
      "outputs": [
        {
          "output_type": "stream",
          "text": [
            "/usr/local/lib/python3.7/dist-packages/seaborn/distributions.py:2557: FutureWarning: `distplot` is a deprecated function and will be removed in a future version. Please adapt your code to use either `displot` (a figure-level function with similar flexibility) or `histplot` (an axes-level function for histograms).\n",
            "  warnings.warn(msg, FutureWarning)\n"
          ],
          "name": "stderr"
        },
        {
          "output_type": "display_data",
          "data": {
            "image/png": "[encoded data removed]",
            "text/plain": [
              "<Figure size 648x432 with 1 Axes>"
            ]
          },
          "metadata": {
            "tags": [],
            "needs_background": "light"
          }
        }
      ]
    },
    {
      "cell_type": "code",
      "metadata": {
        "id": "0XYKNURIP8j5"
      },
      "source": [
        "vals = dataset['score'].values.reshape(-1, 1)\n",
        "kde = KernelDensity(kernel='gaussian', bandwidth=3).fit(vals)\n",
        "\n",
        "s = np.linspace(650, 20000)\n",
        "e = kde.score_samples(s.reshape(-1,1))"
      ],
      "execution_count": 47,
      "outputs": []
    },
    {
      "cell_type": "code",
      "metadata": {
        "colab": {
          "base_uri": "https://localhost:8080/",
          "height": 377
        },
        "id": "FNq0g1urP8j5",
        "outputId": "968cc1d0-d365-4cbc-d43b-30762a51b61a"
      },
      "source": [
        "plt.figure(figsize=(9, 6))\n",
        "plt.plot(s, e);\n",
        "\n",
        "#Find min-max points of clusters\n",
        "#Concat min points (s[mi]) and max points (s[ma])\n",
        "#Sort points\n",
        "#And assign clusters"
      ],
      "execution_count": 48,
      "outputs": [
        {
          "output_type": "display_data",
          "data": {
            "image/png": "[encoded data removed]",
            "text/plain": [
              "<Figure size 648x432 with 1 Axes>"
            ]
          },
          "metadata": {
            "tags": [],
            "needs_background": "light"
          }
        }
      ]
    },
    {
      "cell_type": "code",
      "metadata": {
        "id": "3K3TGXYXP8j6"
      },
      "source": [
        "mi, ma = argrelextrema(e, np.less)[0], argrelextrema(e, np.greater)[0]"
      ],
      "execution_count": 49,
      "outputs": []
    },
    {
      "cell_type": "code",
      "metadata": {
        "id": "DuG48Uu3P8j6"
      },
      "source": [
        "points = np.concatenate((s[mi], s[ma]), axis=0)\n",
        "buckets = []\n",
        "\n",
        "for point in points:\n",
        "    buckets.append(point)"
      ],
      "execution_count": 50,
      "outputs": []
    },
    {
      "cell_type": "code",
      "metadata": {
        "id": "qTI_yfOpP8j6"
      },
      "source": [
        "buckets = np.array(buckets)\n",
        "buckets.sort()"
      ],
      "execution_count": 51,
      "outputs": []
    },
    {
      "cell_type": "code",
      "metadata": {
        "id": "4XqlbBJ-P8j7"
      },
      "source": [
        "dataset['cluster'] = buckets.searchsorted(dataset.score)"
      ],
      "execution_count": 52,
      "outputs": []
    },
    {
      "cell_type": "code",
      "metadata": {
        "colab": {
          "base_uri": "https://localhost:8080/"
        },
        "id": "_InYi7LGP8j7",
        "outputId": "f03dfae9-c777-4447-f0a6-66f7a58735c2"
      },
      "source": [
        "dataset.groupby('cluster').size()"
      ],
      "execution_count": 53,
      "outputs": [
        {
          "output_type": "execute_result",
          "data": {
            "text/plain": [
              "cluster\n",
              "0     746697\n",
              "1      73476\n",
              "2        735\n",
              "3       1099\n",
              "4        440\n",
              "5        798\n",
              "6        351\n",
              "7        299\n",
              "8        255\n",
              "9        481\n",
              "10       645\n",
              "11       193\n",
              "12       178\n",
              "13       170\n",
              "14       295\n",
              "15       235\n",
              "16       114\n",
              "17       221\n",
              "18       102\n",
              "19       186\n",
              "20        97\n",
              "21       295\n",
              "22       158\n",
              "23       144\n",
              "24       131\n",
              "25      4591\n",
              "dtype: int64"
            ]
          },
          "metadata": {
            "tags": []
          },
          "execution_count": 53
        }
      ]
    },
    {
      "cell_type": "code",
      "metadata": {
        "id": "TFfl2_UiP8j8"
      },
      "source": [
        "#Recommendation\n",
        "#Tf-idf vectorizer for finding similarity of genres\n",
        "#Linear kernel creates an NxN matrix with similarities between movies"
      ],
      "execution_count": 55,
      "outputs": []
    },
    {
      "cell_type": "code",
      "metadata": {
        "id": "by6wdfkebuRr"
      },
      "source": [
        "# text processing\n",
        "from sklearn.feature_extraction.text import TfidfVectorizer\n",
        "from sklearn.metrics.pairwise import linear_kernel"
      ],
      "execution_count": 57,
      "outputs": []
    },
    {
      "cell_type": "code",
      "metadata": {
        "id": "tE-6it1SP8j9"
      },
      "source": [
        "tfidf_vectorizer = TfidfVectorizer()\n",
        "matrix = tfidf_vectorizer.fit_transform(dataset['genres'])"
      ],
      "execution_count": 58,
      "outputs": []
    },
    {
      "cell_type": "code",
      "metadata": {
        "id": "X5ojyd7xP8j9"
      },
      "source": [
        "#Recommender Function\n",
        "def get_recommendations(movie_index):\n",
        "    print(dataset.iloc[movie_index])\n",
        "    \n",
        "    kernel = linear_kernel(matrix[movie_index], matrix)\n",
        "    sim_scores = list(enumerate(kernel[0]))\n",
        "    \n",
        "    sim_scores = sorted(sim_scores, key=lambda x: x[1], reverse=True)\n",
        "    indexes = [i[0] for i in sim_scores if i[0] != movie_index and i[1] > .5]\n",
        "    \n",
        "    cond1 = (dataset.index.isin(indexes))\n",
        "    cond2 = (dataset.cluster == dataset.iloc[movie_index]['cluster'])\n",
        "    cond3 = (dataset.titleType == dataset.iloc[movie_index]['titleType'])\n",
        "    \n",
        "    selected = dataset.loc[cond1 & cond2 & cond3] \\\n",
        "        .sort_values(by='score', ascending=False).head(20)\n",
        "    display(selected)"
      ],
      "execution_count": 67,
      "outputs": []
    },
    {
      "cell_type": "code",
      "metadata": {
        "colab": {
          "base_uri": "https://localhost:8080/",
          "height": 1000
        },
        "id": "8ELCQYqOP8j9",
        "outputId": "2a97605f-d4c9-423a-a119-ae71341fc58f"
      },
      "source": [
        "get_recommendations(74808)"
      ],
      "execution_count": 68,
      "outputs": [
        {
          "output_type": "stream",
          "text": [
            "originalTitle          Indecent Behavior\n",
            "titleType                              0\n",
            "averageRating                        3.8\n",
            "numVotes                             437\n",
            "startYear                           1993\n",
            "runtimeMinutes                        93\n",
            "genres            Drama,Mystery,Thriller\n",
            "score                            982.649\n",
            "cluster                                0\n",
            "Name: 74808, dtype: object\n"
          ],
          "name": "stdout"
        },
        {
          "output_type": "display_data",
          "data": {
            "text/html": [
              "<div>\n",
              "<style scoped>\n",
              "    .dataframe tbody tr th:only-of-type {\n",
              "        vertical-align: middle;\n",
              "    }\n",
              "\n",
              "    .dataframe tbody tr th {\n",
              "        vertical-align: top;\n",
              "    }\n",
              "\n",
              "    .dataframe thead th {\n",
              "        text-align: right;\n",
              "    }\n",
              "</style>\n",
              "<table border=\"1\" class=\"dataframe\">\n",
              "  <thead>\n",
              "    <tr style=\"text-align: right;\">\n",
              "      <th></th>\n",
              "      <th>originalTitle</th>\n",
              "      <th>titleType</th>\n",
              "      <th>averageRating</th>\n",
              "      <th>numVotes</th>\n",
              "      <th>startYear</th>\n",
              "      <th>runtimeMinutes</th>\n",
              "      <th>genres</th>\n",
              "      <th>score</th>\n",
              "      <th>cluster</th>\n",
              "    </tr>\n",
              "  </thead>\n",
              "  <tbody>\n",
              "    <tr>\n",
              "      <th>492707</th>\n",
              "      <td>Caroline and Jackie</td>\n",
              "      <td>0</td>\n",
              "      <td>6.5</td>\n",
              "      <td>557.0</td>\n",
              "      <td>2012.0</td>\n",
              "      <td>85.0</td>\n",
              "      <td>Drama,Mystery</td>\n",
              "      <td>1044.7487</td>\n",
              "      <td>0</td>\n",
              "    </tr>\n",
              "    <tr>\n",
              "      <th>333363</th>\n",
              "      <td>Okkadunnadu</td>\n",
              "      <td>0</td>\n",
              "      <td>7.4</td>\n",
              "      <td>536.0</td>\n",
              "      <td>2007.0</td>\n",
              "      <td>119.0</td>\n",
              "      <td>Action,Thriller</td>\n",
              "      <td>1044.6764</td>\n",
              "      <td>0</td>\n",
              "    </tr>\n",
              "    <tr>\n",
              "      <th>34053</th>\n",
              "      <td>The Mind Benders</td>\n",
              "      <td>0</td>\n",
              "      <td>6.4</td>\n",
              "      <td>577.0</td>\n",
              "      <td>1963.0</td>\n",
              "      <td>109.0</td>\n",
              "      <td>Drama,Thriller</td>\n",
              "      <td>1044.6165</td>\n",
              "      <td>0</td>\n",
              "    </tr>\n",
              "    <tr>\n",
              "      <th>74786</th>\n",
              "      <td>I Love a Man in Uniform</td>\n",
              "      <td>0</td>\n",
              "      <td>6.8</td>\n",
              "      <td>561.0</td>\n",
              "      <td>1993.0</td>\n",
              "      <td>99.0</td>\n",
              "      <td>Drama,Thriller</td>\n",
              "      <td>1044.5309</td>\n",
              "      <td>0</td>\n",
              "    </tr>\n",
              "    <tr>\n",
              "      <th>534729</th>\n",
              "      <td>Lost Place</td>\n",
              "      <td>0</td>\n",
              "      <td>4.4</td>\n",
              "      <td>544.0</td>\n",
              "      <td>2013.0</td>\n",
              "      <td>101.0</td>\n",
              "      <td>Horror,Mystery,Thriller</td>\n",
              "      <td>1044.4556</td>\n",
              "      <td>0</td>\n",
              "    </tr>\n",
              "    <tr>\n",
              "      <th>523174</th>\n",
              "      <td>I Against I</td>\n",
              "      <td>0</td>\n",
              "      <td>5.0</td>\n",
              "      <td>557.0</td>\n",
              "      <td>2012.0</td>\n",
              "      <td>84.0</td>\n",
              "      <td>Crime,Thriller</td>\n",
              "      <td>1044.3985</td>\n",
              "      <td>0</td>\n",
              "    </tr>\n",
              "    <tr>\n",
              "      <th>662516</th>\n",
              "      <td>My Guardian Angel</td>\n",
              "      <td>0</td>\n",
              "      <td>4.7</td>\n",
              "      <td>542.0</td>\n",
              "      <td>2016.0</td>\n",
              "      <td>100.0</td>\n",
              "      <td>Thriller</td>\n",
              "      <td>1044.2542</td>\n",
              "      <td>0</td>\n",
              "    </tr>\n",
              "    <tr>\n",
              "      <th>500569</th>\n",
              "      <td>Poslednyaya skazka Rity</td>\n",
              "      <td>0</td>\n",
              "      <td>6.9</td>\n",
              "      <td>545.0</td>\n",
              "      <td>2012.0</td>\n",
              "      <td>100.0</td>\n",
              "      <td>Drama,Fantasy,Mystery</td>\n",
              "      <td>1044.2165</td>\n",
              "      <td>0</td>\n",
              "    </tr>\n",
              "    <tr>\n",
              "      <th>300233</th>\n",
              "      <td>Cover</td>\n",
              "      <td>0</td>\n",
              "      <td>5.5</td>\n",
              "      <td>550.0</td>\n",
              "      <td>2007.0</td>\n",
              "      <td>98.0</td>\n",
              "      <td>Drama,Thriller</td>\n",
              "      <td>1044.0716</td>\n",
              "      <td>0</td>\n",
              "    </tr>\n",
              "    <tr>\n",
              "      <th>381659</th>\n",
              "      <td>Ulvenatten</td>\n",
              "      <td>0</td>\n",
              "      <td>5.6</td>\n",
              "      <td>555.0</td>\n",
              "      <td>2008.0</td>\n",
              "      <td>90.0</td>\n",
              "      <td>Action,Drama,Thriller</td>\n",
              "      <td>1044.0515</td>\n",
              "      <td>0</td>\n",
              "    </tr>\n",
              "    <tr>\n",
              "      <th>647396</th>\n",
              "      <td>De Reünie</td>\n",
              "      <td>0</td>\n",
              "      <td>5.6</td>\n",
              "      <td>543.0</td>\n",
              "      <td>2015.0</td>\n",
              "      <td>99.0</td>\n",
              "      <td>Drama,Mystery</td>\n",
              "      <td>1044.0151</td>\n",
              "      <td>0</td>\n",
              "    </tr>\n",
              "    <tr>\n",
              "      <th>42972</th>\n",
              "      <td>La vittima designata</td>\n",
              "      <td>0</td>\n",
              "      <td>6.6</td>\n",
              "      <td>572.0</td>\n",
              "      <td>1971.0</td>\n",
              "      <td>105.0</td>\n",
              "      <td>Crime,Drama,Thriller</td>\n",
              "      <td>1043.7732</td>\n",
              "      <td>0</td>\n",
              "    </tr>\n",
              "    <tr>\n",
              "      <th>70459</th>\n",
              "      <td>Clearcut</td>\n",
              "      <td>0</td>\n",
              "      <td>7.1</td>\n",
              "      <td>560.0</td>\n",
              "      <td>1991.0</td>\n",
              "      <td>100.0</td>\n",
              "      <td>Drama,Thriller,Western</td>\n",
              "      <td>1043.6570</td>\n",
              "      <td>0</td>\n",
              "    </tr>\n",
              "    <tr>\n",
              "      <th>60755</th>\n",
              "      <td>Medium</td>\n",
              "      <td>0</td>\n",
              "      <td>6.5</td>\n",
              "      <td>566.0</td>\n",
              "      <td>1985.0</td>\n",
              "      <td>98.0</td>\n",
              "      <td>Horror,Mystery,Thriller</td>\n",
              "      <td>1043.6232</td>\n",
              "      <td>0</td>\n",
              "    </tr>\n",
              "    <tr>\n",
              "      <th>27692</th>\n",
              "      <td>Town on Trial</td>\n",
              "      <td>0</td>\n",
              "      <td>6.4</td>\n",
              "      <td>589.0</td>\n",
              "      <td>1957.0</td>\n",
              "      <td>96.0</td>\n",
              "      <td>Crime,Mystery,Thriller</td>\n",
              "      <td>1043.6231</td>\n",
              "      <td>0</td>\n",
              "    </tr>\n",
              "    <tr>\n",
              "      <th>348053</th>\n",
              "      <td>En Brazos de un Asesino</td>\n",
              "      <td>0</td>\n",
              "      <td>6.0</td>\n",
              "      <td>534.0</td>\n",
              "      <td>2019.0</td>\n",
              "      <td>106.0</td>\n",
              "      <td>Romance,Thriller</td>\n",
              "      <td>1043.6116</td>\n",
              "      <td>0</td>\n",
              "    </tr>\n",
              "    <tr>\n",
              "      <th>33876</th>\n",
              "      <td>The Girl Hunters</td>\n",
              "      <td>0</td>\n",
              "      <td>6.1</td>\n",
              "      <td>582.0</td>\n",
              "      <td>1963.0</td>\n",
              "      <td>98.0</td>\n",
              "      <td>Crime,Drama,Mystery</td>\n",
              "      <td>1043.1748</td>\n",
              "      <td>0</td>\n",
              "    </tr>\n",
              "    <tr>\n",
              "      <th>101078</th>\n",
              "      <td>In Her Defense</td>\n",
              "      <td>0</td>\n",
              "      <td>5.4</td>\n",
              "      <td>555.0</td>\n",
              "      <td>1999.0</td>\n",
              "      <td>97.0</td>\n",
              "      <td>Drama,Romance,Thriller</td>\n",
              "      <td>1043.1639</td>\n",
              "      <td>0</td>\n",
              "    </tr>\n",
              "    <tr>\n",
              "      <th>386455</th>\n",
              "      <td>É Proibido Fumar</td>\n",
              "      <td>0</td>\n",
              "      <td>6.7</td>\n",
              "      <td>553.0</td>\n",
              "      <td>2009.0</td>\n",
              "      <td>89.0</td>\n",
              "      <td>Drama,Romance,Thriller</td>\n",
              "      <td>1043.1081</td>\n",
              "      <td>0</td>\n",
              "    </tr>\n",
              "    <tr>\n",
              "      <th>113771</th>\n",
              "      <td>An Invited Guest</td>\n",
              "      <td>0</td>\n",
              "      <td>5.3</td>\n",
              "      <td>541.0</td>\n",
              "      <td>1999.0</td>\n",
              "      <td>116.0</td>\n",
              "      <td>Drama,Thriller</td>\n",
              "      <td>1043.0683</td>\n",
              "      <td>0</td>\n",
              "    </tr>\n",
              "  </tbody>\n",
              "</table>\n",
              "</div>"
            ],
            "text/plain": [
              "                  originalTitle  titleType  ...      score  cluster\n",
              "492707      Caroline and Jackie          0  ...  1044.7487        0\n",
              "333363              Okkadunnadu          0  ...  1044.6764        0\n",
              "34053          The Mind Benders          0  ...  1044.6165        0\n",
              "74786   I Love a Man in Uniform          0  ...  1044.5309        0\n",
              "534729               Lost Place          0  ...  1044.4556        0\n",
              "523174              I Against I          0  ...  1044.3985        0\n",
              "662516        My Guardian Angel          0  ...  1044.2542        0\n",
              "500569  Poslednyaya skazka Rity          0  ...  1044.2165        0\n",
              "300233                    Cover          0  ...  1044.0716        0\n",
              "381659               Ulvenatten          0  ...  1044.0515        0\n",
              "647396                De Reünie          0  ...  1044.0151        0\n",
              "42972      La vittima designata          0  ...  1043.7732        0\n",
              "70459                  Clearcut          0  ...  1043.6570        0\n",
              "60755                    Medium          0  ...  1043.6232        0\n",
              "27692             Town on Trial          0  ...  1043.6231        0\n",
              "348053  En Brazos de un Asesino          0  ...  1043.6116        0\n",
              "33876          The Girl Hunters          0  ...  1043.1748        0\n",
              "101078           In Her Defense          0  ...  1043.1639        0\n",
              "386455         É Proibido Fumar          0  ...  1043.1081        0\n",
              "113771         An Invited Guest          0  ...  1043.0683        0\n",
              "\n",
              "[20 rows x 9 columns]"
            ]
          },
          "metadata": {
            "tags": []
          }
        }
      ]
    },
    {
      "cell_type": "code",
      "metadata": {
        "colab": {
          "base_uri": "https://localhost:8080/",
          "height": 1000
        },
        "id": "MtM55qWYP8j-",
        "outputId": "106579dc-3f32-4050-d958-a6e9bc15ab0a"
      },
      "source": [
        "get_recommendations(73058)"
      ],
      "execution_count": 69,
      "outputs": [
        {
          "output_type": "stream",
          "text": [
            "originalTitle     Branford Marsalis: The Music Tells You\n",
            "titleType                                              0\n",
            "averageRating                                        7.1\n",
            "numVotes                                               8\n",
            "startYear                                           1992\n",
            "runtimeMinutes                                        60\n",
            "genres                       Biography,Documentary,Music\n",
            "score                                            763.901\n",
            "cluster                                                0\n",
            "Name: 73058, dtype: object\n"
          ],
          "name": "stdout"
        },
        {
          "output_type": "display_data",
          "data": {
            "text/html": [
              "<div>\n",
              "<style scoped>\n",
              "    .dataframe tbody tr th:only-of-type {\n",
              "        vertical-align: middle;\n",
              "    }\n",
              "\n",
              "    .dataframe tbody tr th {\n",
              "        vertical-align: top;\n",
              "    }\n",
              "\n",
              "    .dataframe thead th {\n",
              "        text-align: right;\n",
              "    }\n",
              "</style>\n",
              "<table border=\"1\" class=\"dataframe\">\n",
              "  <thead>\n",
              "    <tr style=\"text-align: right;\">\n",
              "      <th></th>\n",
              "      <th>originalTitle</th>\n",
              "      <th>titleType</th>\n",
              "      <th>averageRating</th>\n",
              "      <th>numVotes</th>\n",
              "      <th>startYear</th>\n",
              "      <th>runtimeMinutes</th>\n",
              "      <th>genres</th>\n",
              "      <th>score</th>\n",
              "      <th>cluster</th>\n",
              "    </tr>\n",
              "  </thead>\n",
              "  <tbody>\n",
              "    <tr>\n",
              "      <th>595949</th>\n",
              "      <td>Queen Mimi</td>\n",
              "      <td>0</td>\n",
              "      <td>7.3</td>\n",
              "      <td>562.0</td>\n",
              "      <td>2015.0</td>\n",
              "      <td>75.0</td>\n",
              "      <td>Biography,Comedy,Documentary</td>\n",
              "      <td>1044.7702</td>\n",
              "      <td>0</td>\n",
              "    </tr>\n",
              "    <tr>\n",
              "      <th>801975</th>\n",
              "      <td>Paraíso Perdido</td>\n",
              "      <td>0</td>\n",
              "      <td>7.0</td>\n",
              "      <td>533.0</td>\n",
              "      <td>2018.0</td>\n",
              "      <td>110.0</td>\n",
              "      <td>Drama,Music</td>\n",
              "      <td>1044.1593</td>\n",
              "      <td>0</td>\n",
              "    </tr>\n",
              "    <tr>\n",
              "      <th>627102</th>\n",
              "      <td>Citizen Jane: Battle for the City</td>\n",
              "      <td>0</td>\n",
              "      <td>6.9</td>\n",
              "      <td>547.0</td>\n",
              "      <td>2016.0</td>\n",
              "      <td>92.0</td>\n",
              "      <td>Biography,Documentary,History</td>\n",
              "      <td>1043.8631</td>\n",
              "      <td>0</td>\n",
              "    </tr>\n",
              "    <tr>\n",
              "      <th>659253</th>\n",
              "      <td>What She Said: The Art of Pauline Kael</td>\n",
              "      <td>0</td>\n",
              "      <td>6.8</td>\n",
              "      <td>541.0</td>\n",
              "      <td>2018.0</td>\n",
              "      <td>98.0</td>\n",
              "      <td>Biography,Documentary</td>\n",
              "      <td>1043.8137</td>\n",
              "      <td>0</td>\n",
              "    </tr>\n",
              "    <tr>\n",
              "      <th>456204</th>\n",
              "      <td>Vito</td>\n",
              "      <td>0</td>\n",
              "      <td>7.7</td>\n",
              "      <td>550.0</td>\n",
              "      <td>2011.0</td>\n",
              "      <td>93.0</td>\n",
              "      <td>Biography,Documentary,History</td>\n",
              "      <td>1043.8046</td>\n",
              "      <td>0</td>\n",
              "    </tr>\n",
              "    <tr>\n",
              "      <th>533158</th>\n",
              "      <td>Little White Lie</td>\n",
              "      <td>0</td>\n",
              "      <td>7.2</td>\n",
              "      <td>568.0</td>\n",
              "      <td>2014.0</td>\n",
              "      <td>65.0</td>\n",
              "      <td>Biography,Documentary,Drama</td>\n",
              "      <td>1043.7898</td>\n",
              "      <td>0</td>\n",
              "    </tr>\n",
              "    <tr>\n",
              "      <th>61427</th>\n",
              "      <td>Richy Guitar</td>\n",
              "      <td>0</td>\n",
              "      <td>6.1</td>\n",
              "      <td>572.0</td>\n",
              "      <td>1985.0</td>\n",
              "      <td>90.0</td>\n",
              "      <td>Comedy,Music</td>\n",
              "      <td>1043.7142</td>\n",
              "      <td>0</td>\n",
              "    </tr>\n",
              "    <tr>\n",
              "      <th>68795</th>\n",
              "      <td>Docteur Petiot</td>\n",
              "      <td>0</td>\n",
              "      <td>7.1</td>\n",
              "      <td>557.0</td>\n",
              "      <td>1990.0</td>\n",
              "      <td>102.0</td>\n",
              "      <td>Biography,Crime,Drama</td>\n",
              "      <td>1042.5401</td>\n",
              "      <td>0</td>\n",
              "    </tr>\n",
              "    <tr>\n",
              "      <th>803704</th>\n",
              "      <td>Ana e Vitória</td>\n",
              "      <td>0</td>\n",
              "      <td>6.5</td>\n",
              "      <td>526.0</td>\n",
              "      <td>2018.0</td>\n",
              "      <td>115.0</td>\n",
              "      <td>Biography,Comedy,Music</td>\n",
              "      <td>1042.5356</td>\n",
              "      <td>0</td>\n",
              "    </tr>\n",
              "    <tr>\n",
              "      <th>90705</th>\n",
              "      <td>PNYC: Portishead - Roseland New York</td>\n",
              "      <td>0</td>\n",
              "      <td>8.9</td>\n",
              "      <td>558.0</td>\n",
              "      <td>1997.0</td>\n",
              "      <td>93.0</td>\n",
              "      <td>Documentary,Music</td>\n",
              "      <td>1042.4674</td>\n",
              "      <td>0</td>\n",
              "    </tr>\n",
              "    <tr>\n",
              "      <th>78194</th>\n",
              "      <td>La vie sexuelle des Belges 1950-1978</td>\n",
              "      <td>0</td>\n",
              "      <td>5.8</td>\n",
              "      <td>566.0</td>\n",
              "      <td>1994.0</td>\n",
              "      <td>85.0</td>\n",
              "      <td>Biography,Comedy,Romance</td>\n",
              "      <td>1042.4096</td>\n",
              "      <td>0</td>\n",
              "    </tr>\n",
              "    <tr>\n",
              "      <th>480780</th>\n",
              "      <td>Couleur de peau: Miel</td>\n",
              "      <td>0</td>\n",
              "      <td>7.2</td>\n",
              "      <td>563.0</td>\n",
              "      <td>2012.0</td>\n",
              "      <td>70.0</td>\n",
              "      <td>Animation,Biography,Drama</td>\n",
              "      <td>1042.3883</td>\n",
              "      <td>0</td>\n",
              "    </tr>\n",
              "    <tr>\n",
              "      <th>423975</th>\n",
              "      <td>Break the Silence: The Movie</td>\n",
              "      <td>0</td>\n",
              "      <td>7.9</td>\n",
              "      <td>542.0</td>\n",
              "      <td>2020.0</td>\n",
              "      <td>89.0</td>\n",
              "      <td>Documentary,Music</td>\n",
              "      <td>1041.8860</td>\n",
              "      <td>0</td>\n",
              "    </tr>\n",
              "    <tr>\n",
              "      <th>27923</th>\n",
              "      <td>Baby Face Nelson</td>\n",
              "      <td>0</td>\n",
              "      <td>6.4</td>\n",
              "      <td>593.0</td>\n",
              "      <td>1957.0</td>\n",
              "      <td>85.0</td>\n",
              "      <td>Biography,Crime,Drama</td>\n",
              "      <td>1041.6993</td>\n",
              "      <td>0</td>\n",
              "    </tr>\n",
              "    <tr>\n",
              "      <th>70772</th>\n",
              "      <td>Hammers Over the Anvil</td>\n",
              "      <td>0</td>\n",
              "      <td>5.7</td>\n",
              "      <td>554.0</td>\n",
              "      <td>1993.0</td>\n",
              "      <td>97.0</td>\n",
              "      <td>Biography,Drama,Romance</td>\n",
              "      <td>1040.4558</td>\n",
              "      <td>0</td>\n",
              "    </tr>\n",
              "    <tr>\n",
              "      <th>20922</th>\n",
              "      <td>Jolson Sings Again</td>\n",
              "      <td>0</td>\n",
              "      <td>6.7</td>\n",
              "      <td>588.0</td>\n",
              "      <td>1949.0</td>\n",
              "      <td>96.0</td>\n",
              "      <td>Biography,Music</td>\n",
              "      <td>1040.1730</td>\n",
              "      <td>0</td>\n",
              "    </tr>\n",
              "    <tr>\n",
              "      <th>661023</th>\n",
              "      <td>Gour Hari Dastaan: The Freedom File</td>\n",
              "      <td>0</td>\n",
              "      <td>7.4</td>\n",
              "      <td>524.0</td>\n",
              "      <td>2015.0</td>\n",
              "      <td>114.0</td>\n",
              "      <td>Biography,Drama</td>\n",
              "      <td>1040.1082</td>\n",
              "      <td>0</td>\n",
              "    </tr>\n",
              "    <tr>\n",
              "      <th>754569</th>\n",
              "      <td>Park Yeol</td>\n",
              "      <td>0</td>\n",
              "      <td>6.1</td>\n",
              "      <td>511.0</td>\n",
              "      <td>2017.0</td>\n",
              "      <td>129.0</td>\n",
              "      <td>Biography,Drama</td>\n",
              "      <td>1039.8359</td>\n",
              "      <td>0</td>\n",
              "    </tr>\n",
              "    <tr>\n",
              "      <th>458805</th>\n",
              "      <td>The Great Hip Hop Hoax</td>\n",
              "      <td>0</td>\n",
              "      <td>7.1</td>\n",
              "      <td>540.0</td>\n",
              "      <td>2013.0</td>\n",
              "      <td>93.0</td>\n",
              "      <td>Comedy,Documentary,Music</td>\n",
              "      <td>1039.7256</td>\n",
              "      <td>0</td>\n",
              "    </tr>\n",
              "    <tr>\n",
              "      <th>572404</th>\n",
              "      <td>Spark: A Burning Man Story</td>\n",
              "      <td>0</td>\n",
              "      <td>6.2</td>\n",
              "      <td>542.0</td>\n",
              "      <td>2013.0</td>\n",
              "      <td>90.0</td>\n",
              "      <td>Action,Biography,Documentary</td>\n",
              "      <td>1039.6392</td>\n",
              "      <td>0</td>\n",
              "    </tr>\n",
              "  </tbody>\n",
              "</table>\n",
              "</div>"
            ],
            "text/plain": [
              "                                 originalTitle  titleType  ...      score  cluster\n",
              "595949                              Queen Mimi          0  ...  1044.7702        0\n",
              "801975                         Paraíso Perdido          0  ...  1044.1593        0\n",
              "627102       Citizen Jane: Battle for the City          0  ...  1043.8631        0\n",
              "659253  What She Said: The Art of Pauline Kael          0  ...  1043.8137        0\n",
              "456204                                    Vito          0  ...  1043.8046        0\n",
              "533158                        Little White Lie          0  ...  1043.7898        0\n",
              "61427                             Richy Guitar          0  ...  1043.7142        0\n",
              "68795                           Docteur Petiot          0  ...  1042.5401        0\n",
              "803704                           Ana e Vitória          0  ...  1042.5356        0\n",
              "90705     PNYC: Portishead - Roseland New York          0  ...  1042.4674        0\n",
              "78194     La vie sexuelle des Belges 1950-1978          0  ...  1042.4096        0\n",
              "480780                   Couleur de peau: Miel          0  ...  1042.3883        0\n",
              "423975            Break the Silence: The Movie          0  ...  1041.8860        0\n",
              "27923                         Baby Face Nelson          0  ...  1041.6993        0\n",
              "70772                   Hammers Over the Anvil          0  ...  1040.4558        0\n",
              "20922                       Jolson Sings Again          0  ...  1040.1730        0\n",
              "661023     Gour Hari Dastaan: The Freedom File          0  ...  1040.1082        0\n",
              "754569                               Park Yeol          0  ...  1039.8359        0\n",
              "458805                  The Great Hip Hop Hoax          0  ...  1039.7256        0\n",
              "572404              Spark: A Burning Man Story          0  ...  1039.6392        0\n",
              "\n",
              "[20 rows x 9 columns]"
            ]
          },
          "metadata": {
            "tags": []
          }
        }
      ]
    },
    {
      "cell_type": "code",
      "metadata": {
        "id": "oJgdADgvcyHH"
      },
      "source": [
        ""
      ],
      "execution_count": null,
      "outputs": []
    }
  ]
}